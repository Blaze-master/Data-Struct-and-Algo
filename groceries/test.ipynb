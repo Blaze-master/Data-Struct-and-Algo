{
 "cells": [
  {
   "cell_type": "code",
   "execution_count": 1,
   "metadata": {},
   "outputs": [],
   "source": [
    "import numpy as np\n",
    "import matplotlib.pyplot as plt"
   ]
  },
  {
   "cell_type": "code",
   "execution_count": 1,
   "metadata": {},
   "outputs": [
    {
     "data": {
      "text/plain": [
       "int"
      ]
     },
     "execution_count": 1,
     "metadata": {},
     "output_type": "execute_result"
    }
   ],
   "source": [
    "type(1)"
   ]
  },
  {
   "cell_type": "code",
   "execution_count": 2,
   "metadata": {},
   "outputs": [
    {
     "data": {
      "text/plain": [
       "int"
      ]
     },
     "execution_count": 2,
     "metadata": {},
     "output_type": "execute_result"
    }
   ],
   "source": [
    "type([1][0])"
   ]
  },
  {
   "cell_type": "code",
   "execution_count": 2,
   "metadata": {},
   "outputs": [
    {
     "data": {
      "text/plain": [
       "False"
      ]
     },
     "execution_count": 2,
     "metadata": {},
     "output_type": "execute_result"
    }
   ],
   "source": [
    "0 == None"
   ]
  },
  {
   "cell_type": "code",
   "execution_count": 8,
   "metadata": {},
   "outputs": [],
   "source": [
    "[(1, 0, None)].remove((1, 0, None))"
   ]
  },
  {
   "cell_type": "code",
   "execution_count": 9,
   "metadata": {},
   "outputs": [
    {
     "data": {
      "text/plain": [
       "dict_values"
      ]
     },
     "execution_count": 9,
     "metadata": {},
     "output_type": "execute_result"
    }
   ],
   "source": [
    "type({}.values())"
   ]
  },
  {
   "cell_type": "code",
   "execution_count": 11,
   "metadata": {},
   "outputs": [
    {
     "data": {
      "text/plain": [
       "[2, 1]"
      ]
     },
     "execution_count": 11,
     "metadata": {},
     "output_type": "execute_result"
    }
   ],
   "source": [
    "v = [1,2]\n",
    "v.append(v.pop(0))\n",
    "v"
   ]
  },
  {
   "cell_type": "code",
   "execution_count": 1,
   "metadata": {},
   "outputs": [
    {
     "data": {
      "text/plain": [
       "['0:1', '1:0']"
      ]
     },
     "execution_count": 1,
     "metadata": {},
     "output_type": "execute_result"
    }
   ],
   "source": [
    "sorted([\"1:0\", \"0:1\"])"
   ]
  },
  {
   "cell_type": "code",
   "execution_count": 2,
   "metadata": {},
   "outputs": [
    {
     "name": "stdout",
     "output_type": "stream",
     "text": [
      "['0:0', '1:4']\n",
      "['0:0', '3:4']\n",
      "['0:0', '1:5']\n",
      "['0:0', '2:5']\n",
      "['0:0', '3:5']\n",
      "['0:4', '1:0']\n",
      "['1:0', '2:4']\n",
      "['0:5', '1:0']\n",
      "['1:0', '2:5']\n",
      "['1:0', '3:5']\n",
      "['1:4', '2:0']\n",
      "['2:0', '2:4']\n",
      "['2:0', '3:4']\n",
      "['0:5', '2:0']\n",
      "['1:5', '2:0']\n",
      "['2:0', '3:5']\n",
      "['3:0', '3:3']\n",
      "['0:4', '3:0']\n",
      "['2:4', '3:0']\n",
      "['0:5', '3:0']\n",
      "['1:5', '3:0']\n",
      "['2:5', '3:0']\n",
      "['0:1', '1:4']\n",
      "['0:1', '2:4']\n",
      "['0:1', '1:5']\n",
      "['0:1', '3:5']\n",
      "['0:4', '1:1']\n",
      "['1:1', '2:4']\n",
      "['1:1', '3:4']\n",
      "['0:5', '1:1']\n",
      "['1:1', '2:5']\n",
      "['1:4', '2:1']\n",
      "['2:1', '3:4']\n",
      "['1:5', '2:1']\n",
      "['2:1', '2:5']\n",
      "['2:1', '3:5']\n",
      "['1:4', '3:1']\n",
      "['2:4', '3:1']\n",
      "['3:1', '3:4']\n",
      "['0:5', '3:1']\n",
      "['2:5', '3:1']\n",
      "['0:2', '1:4']\n",
      "['0:2', '3:4']\n",
      "['0:2', '1:5']\n",
      "['0:2', '2:5']\n",
      "['0:4', '1:2']\n",
      "['1:2', '2:4']\n",
      "['0:5', '1:2']\n",
      "['1:2', '2:5']\n",
      "['1:2', '3:5']\n",
      "['1:4', '2:2']\n",
      "['2:2', '3:4']\n",
      "['0:5', '2:2']\n",
      "['1:5', '2:2']\n",
      "['2:2', '3:5']\n",
      "['2:4', '3:2']\n",
      "['1:5', '3:2']\n",
      "['2:5', '3:2']\n",
      "['3:2', '3:5']\n",
      "['0:3', '0:4']\n",
      "['0:3', '1:4']\n",
      "['0:3', '2:4']\n",
      "['0:3', '3:4']\n",
      "['0:3', '1:5']\n",
      "['0:3', '3:5']\n",
      "['0:4', '1:3']\n",
      "['1:3', '1:4']\n",
      "['1:3', '2:4']\n",
      "['1:3', '3:4']\n",
      "['0:5', '1:3']\n",
      "['1:3', '2:5']\n",
      "['0:4', '2:3']\n",
      "['1:4', '2:3']\n",
      "['2:3', '2:4']\n",
      "['2:3', '3:4']\n",
      "['1:5', '2:3']\n",
      "['2:3', '3:5']\n",
      "['0:4', '3:3']\n",
      "['1:4', '3:3']\n",
      "['2:4', '3:3']\n",
      "['3:3', '3:4']\n",
      "['0:5', '3:3']\n",
      "['2:5', '3:3']\n",
      "['0:4', '2:1']\n",
      "['0:4', '3:2']\n",
      "['0:4', '1:4']\n",
      "['0:4', '0:5']\n",
      "['0:4', '1:5']\n",
      "['0:4', '2:5']\n",
      "['0:4', '3:5']\n",
      "['1:4', '2:4']\n",
      "['0:5', '1:4']\n",
      "['1:4', '1:5']\n",
      "['1:4', '2:5']\n",
      "['1:4', '3:5']\n",
      "['2:4', '3:4']\n",
      "['0:5', '2:4']\n",
      "['1:5', '2:4']\n",
      "['2:4', '2:5']\n",
      "['2:4', '3:5']\n",
      "['0:5', '3:4']\n",
      "['1:5', '3:4']\n",
      "['2:5', '3:4']\n",
      "['3:4', '3:5']\n",
      "['0:5', '1:5']\n",
      "['1:5', '2:5']\n",
      "['2:5', '3:5']\n"
     ]
    }
   ],
   "source": [
    "m46 = [['0:0', '1:0'], ['0:0', '0:1'], ['0:0', '1:1'], ['0:0', '2:1'], ['0:0', '4:1'], ['0:0', '5:1'], ['0:0', '1:2'], ['0:0', '3:2'], ['0:0', '5:2'], ['0:0', '0:3'], ['0:0', '1:3'], ['0:0', '2:3'], ['0:0', '4:3'], ['0:0', '5:3'], ['1:0', '2:0'], ['0:1', '1:0'], ['1:0', '1:1'], ['1:0', '2:1'], ['1:0', '3:1'], ['1:0', '5:1'], ['0:2', '1:0'], ['1:0', '2:2'], ['1:0', '4:2'], ['0:3', '1:0'], ['1:0', '1:3'], ['1:0', '2:3'], ['1:0', '3:3'], ['1:0', '5:3'], ['2:0', '3:0'], ['0:1', '2:0'], ['1:1', '2:0'], ['2:0', '2:1'], ['2:0', '3:1'], ['2:0', '4:1'], ['1:2', '2:0'], ['2:0', '3:2'], ['2:0', '5:2'], ['0:3', '2:0'], ['1:3', '2:0'], ['2:0', '2:3'], ['2:0', '3:3'], ['2:0', '4:3'], ['3:0', '4:0'], ['0:1', '3:0'], ['1:1', '3:0'], ['2:1', '3:0'], ['3:0', '3:1'], ['3:0', '4:1'], ['3:0', '5:1'], ['0:2', '3:0'], ['2:2', '3:0'], ['3:0', '4:2'], ['1:3', '3:0'], ['2:3', '3:0'], ['3:0', '4:3'], ['3:0', '5:3'], ['4:0', '5:0'], ['0:1', '4:0'], ['1:1', '4:0'], ['3:1', '4:0'], ['4:0', '4:1'], ['4:0', '5:1'], ['1:2', '4:0'], ['3:2', '4:0'], ['4:0', '4:2'], ['4:0', '5:2'], ['0:3', '4:0'], ['2:3', '4:0'], ['3:3', '4:0'], ['4:0', '5:3'], ['0:1', '5:0'], ['1:1', '5:0'], ['2:1', '5:0'], ['4:1', '5:0'], ['5:0', '5:1'], ['0:2', '5:0'], ['2:2', '5:0'], ['4:2', '5:0'], ['5:0', '5:2'], ['0:3', '5:0'], ['1:3', '5:0'], ['3:3', '5:0'], ['4:3', '5:0'], ['0:1', '1:1'], ['0:1', '0:2'], ['0:1', '1:2'], ['0:1', '2:2'], ['0:1', '3:2'], ['0:1', '4:2'], ['0:1', '5:2'], ['0:1', '1:3'], ['0:1', '3:3'], ['0:1', '5:3'], ['1:1', '2:1'], ['0:2', '1:1'], ['1:1', '1:2'], ['1:1', '2:2'], ['1:1', '3:2'], ['1:1', '4:2'], ['1:1', '5:2'], ['0:3', '1:1'], ['1:1', '2:3'], ['1:1', '4:3'], ['2:1', '4:0'], ['2:1', '3:1'], ['0:2', '2:1'], ['1:2', '2:1'], ['2:1', '2:2'], ['2:1', '3:2'], ['2:1', '4:2'], ['2:1', '5:2'], ['1:3', '2:1'], ['2:1', '3:3'], ['2:1', '5:3'], ['0:0', '3:1'], ['3:1', '5:0'], ['3:1', '4:1'], ['0:2', '3:1'], ['1:2', '3:1'], ['2:2', '3:1'], ['3:1', '3:2'], ['3:1', '4:2'], ['3:1', '5:2'], ['0:3', '3:1'], ['2:3', '3:1'], ['3:1', '4:3'], ['1:0', '4:1'], ['4:1', '5:1'], ['0:2', '4:1'], ['1:2', '4:1'], ['3:2', '4:1'], ['4:1', '4:2'], ['4:1', '5:2'], ['1:3', '4:1'], ['3:3', '4:1'], ['4:1', '4:3'], ['4:1', '5:3'], ['2:0', '5:1'], ['0:2', '5:1'], ['1:2', '5:1'], ['2:2', '5:1'], ['4:2', '5:1'], ['5:1', '5:2'], ['0:3', '5:1'], ['2:3', '5:1'], ['4:3', '5:1'], ['5:1', '5:3'], ['0:2', '1:2'], ['0:2', '0:3'], ['0:2', '1:3'], ['0:2', '2:3'], ['0:2', '3:3'], ['0:2', '4:3'], ['0:2', '5:3'], ['1:2', '2:2'], ['0:3', '1:2'], ['1:2', '1:3'], ['1:2', '2:3'], ['1:2', '3:3'], ['1:2', '4:3'], ['1:2', '5:3'], ['2:2', '4:1'], ['2:2', '3:2'], ['0:3', '2:2'], ['1:3', '2:2'], ['2:2', '2:3'], ['2:2', '3:3'], ['2:2', '4:3'], ['2:2', '5:3'], ['3:2', '5:1'], ['3:2', '4:2'], ['0:3', '3:2'], ['1:3', '3:2'], ['2:3', '3:2'], ['3:2', '3:3'], ['3:2', '4:3'], ['3:2', '5:3'], ['4:2', '5:2'], ['0:3', '4:2'], ['1:3', '4:2'], ['2:3', '4:2'], ['3:3', '4:2'], ['4:2', '4:3'], ['4:2', '5:3'], ['0:3', '5:2'], ['1:3', '5:2'], ['2:3', '5:2'], ['3:3', '5:2'], ['4:3', '5:2'], ['5:2', '5:3'], ['0:3', '1:3'], ['1:3', '2:3'], ['2:3', '3:3'], ['3:3', '4:3'], ['4:3', '5:3']]\n",
    "m64 = [['0:0', '1:0'], ['0:0', '0:1'], ['0:0', '1:1'], ['0:0', '2:1'], ['0:0', '3:1'], ['0:0', '1:2'], ['0:0', '3:2'], ['0:0', '1:3'], ['0:0', '2:3'], ['0:0', '1:4'], ['0:0', '3:4'], ['0:0', '1:5'], ['0:0', '2:5'], ['0:0', '3:5'], ['1:0', '2:0'], ['0:1', '1:0'], ['1:0', '1:1'], ['1:0', '2:1'], ['1:0', '3:1'], ['0:2', '1:0'], ['1:0', '2:2'], ['0:3', '1:0'], ['1:0', '2:3'], ['1:0', '3:3'], ['0:4', '1:0'], ['1:0', '2:4'], ['0:5', '1:0'], ['1:0', '2:5'], ['1:0', '3:5'], ['2:0', '3:0'], ['0:1', '2:0'], ['1:1', '2:0'], ['2:0', '2:1'], ['2:0', '3:1'], ['1:2', '2:0'], ['2:0', '3:2'], ['1:3', '2:0'], ['2:0', '3:3'], ['1:4', '2:0'], ['2:0', '2:4'], ['2:0', '3:4'], ['0:5', '2:0'], ['1:5', '2:0'], ['2:0', '3:5'], ['0:1', '3:0'], ['1:1', '3:0'], ['2:1', '3:0'], ['3:0', '3:1'], ['2:2', '3:0'], ['1:3', '3:0'], ['2:3', '3:0'], ['3:0', '3:3'], ['0:4', '3:0'], ['2:4', '3:0'], ['0:5', '3:0'], ['1:5', '3:0'], ['2:5', '3:0'], ['0:1', '1:1'], ['0:1', '0:2'], ['0:1', '1:2'], ['0:1', '2:2'], ['0:1', '3:2'], ['0:1', '1:3'], ['0:1', '3:3'], ['0:1', '1:4'], ['0:1', '2:4'], ['0:1', '1:5'], ['0:1', '3:5'], ['1:1', '2:1'], ['0:2', '1:1'], ['1:1', '1:2'], ['1:1', '2:2'], ['1:1', '3:2'], ['0:3', '1:1'], ['1:1', '2:3'], ['0:4', '1:1'], ['1:1', '2:4'], ['1:1', '3:4'], ['0:5', '1:1'], ['1:1', '2:5'], ['2:1', '3:1'], ['0:2', '2:1'], ['1:2', '2:1'], ['2:1', '2:2'], ['2:1', '3:2'], ['1:3', '2:1'], ['2:1', '3:3'], ['1:4', '2:1'], ['2:1', '3:4'], ['1:5', '2:1'], ['2:1', '2:5'], ['2:1', '3:5'], ['0:2', '3:1'], ['1:2', '3:1'], ['2:2', '3:1'], ['3:1', '3:2'], ['2:3', '3:1'], ['1:4', '3:1'], ['2:4', '3:1'], ['3:1', '3:4'], ['0:5', '3:1'], ['2:5', '3:1'], ['0:2', '3:0'], ['0:2', '1:2'], ['0:2', '0:3'], ['0:2', '1:3'], ['0:2', '2:3'], ['0:2', '3:3'], ['0:2', '1:4'], ['0:2', '3:4'], ['0:2', '1:5'], ['0:2', '2:5'], ['1:2', '2:2'], ['0:3', '1:2'], ['1:2', '1:3'], ['1:2', '2:3'], ['1:2', '3:3'], ['0:4', '1:2'], ['1:2', '2:4'], ['0:5', '1:2'], ['1:2', '2:5'], ['1:2', '3:5'], ['2:2', '3:2'], ['0:3', '2:2'], ['1:3', '2:2'], ['2:2', '2:3'], ['2:2', '3:3'], ['1:4', '2:2'], ['2:2', '3:4'], ['0:5', '2:2'], ['1:5', '2:2'], ['2:2', '3:5'], ['0:3', '3:2'], ['1:3', '3:2'], ['2:3', '3:2'], ['3:2', '3:3'], ['2:4', '3:2'], ['1:5', '3:2'], ['2:5', '3:2'], ['3:2', '3:5'], ['0:3', '2:0'], ['0:3', '3:1'], ['0:3', '1:3'], ['0:3', '0:4'], ['0:3', '1:4'], ['0:3', '2:4'], ['0:3', '3:4'], ['0:3', '1:5'], ['0:3', '3:5'], ['1:3', '2:3'], ['0:4', '1:3'], ['1:3', '1:4'], ['1:3', '2:4'], ['1:3', '3:4'], ['0:5', '1:3'], ['1:3', '2:5'], ['2:3', '3:3'], ['0:4', '2:3'], ['1:4', '2:3'], ['2:3', '2:4'], ['2:3', '3:4'], ['1:5', '2:3'], ['2:3', '3:5'], ['0:4', '3:3'], ['1:4', '3:3'], ['2:4', '3:3'], ['3:3', '3:4'], ['0:5', '3:3'], ['2:5', '3:3'], ['0:4', '2:1'], ['0:4', '3:2'], ['0:4', '1:4'], ['0:4', '0:5'], ['0:4', '1:5'], ['0:4', '2:5'], ['0:4', '3:5'], ['1:4', '2:4'], ['0:5', '1:4'], ['1:4', '1:5'], ['1:4', '2:5'], ['1:4', '3:5'], ['2:4', '3:4'], ['0:5', '2:4'], ['1:5', '2:4'], ['2:4', '2:5'], ['2:4', '3:5'], ['0:5', '3:4'], ['1:5', '3:4'], ['2:5', '3:4'], ['3:4', '3:5'], ['0:5', '1:5'], ['1:5', '2:5'], ['2:5', '3:5']]\n",
    "\n",
    "for e in m64:\n",
    "    if not (e in m46): print(e)"
   ]
  },
  {
   "cell_type": "code",
   "execution_count": 4,
   "metadata": {},
   "outputs": [
    {
     "data": {
      "text/plain": [
       "True"
      ]
     },
     "execution_count": 4,
     "metadata": {},
     "output_type": "execute_result"
    }
   ],
   "source": [
    "[1,2] == sorted([2,1])"
   ]
  },
  {
   "cell_type": "code",
   "execution_count": 2,
   "metadata": {},
   "outputs": [
    {
     "data": {
      "text/plain": [
       "[<matplotlib.lines.Line2D at 0x2498634af10>]"
      ]
     },
     "execution_count": 2,
     "metadata": {},
     "output_type": "execute_result"
    },
    {
     "data": {
      "image/png": "[encoded data removed]",
      "text/plain": [
       "<Figure size 640x480 with 1 Axes>"
      ]
     },
     "metadata": {},
     "output_type": "display_data"
    }
   ],
   "source": [
    "edges = np.array([0, 6, 28, 86, 200, 418, 748, 1282, 2040, 3106])\n",
    "plt.plot(edges)"
   ]
  },
  {
   "cell_type": "code",
   "execution_count": null,
   "metadata": {},
   "outputs": [],
   "source": []
  }
 ],
 "metadata": {
  "kernelspec": {
   "display_name": "Python 3",
   "language": "python",
   "name": "python3"
  },
  "language_info": {
   "codemirror_mode": {
    "name": "ipython",
    "version": 3
   },
   "file_extension": ".py",
   "mimetype": "text/x-python",
   "name": "python",
   "nbconvert_exporter": "python",
   "pygments_lexer": "ipython3",
   "version": "3.11.4"
  },
  "orig_nbformat": 4
 },
 "nbformat": 4,
 "nbformat_minor": 2
}
